{
 "cells": [
  {
   "cell_type": "markdown",
   "id": "ca67099d-6242-421c-ad55-ba9ba7fdc2a7",
   "metadata": {},
   "source": [
    "# Project to summarize a webpage using an open-source model running locally via Ollama\n",
    "\n",
    "✅ Benefits:\n",
    "No API charges – fully open-source\n",
    "Data stays local – nothing is sent to external servers\n",
    "\n",
    "⚠️ Disadvantages:\n",
    "Significantly less powerful than commercial (frontier) models\n",
    "\n",
    "🔧 Recap: Installing Ollama\n",
    "Visit ollama.com and install the application.\n",
    "\n",
    "Once installed, the Ollama server should run at:\n",
    "http://localhost:11434\n",
    "\n",
    "You should see the message:\n",
    "Ollama is running.\n",
    "\n",
    "If not, open a terminal and type:\n",
    "ollama serve\n",
    "Then try the link again."
   ]
  },
  {
   "cell_type": "code",
   "execution_count": 1,
   "id": "8da5b8b5-1092-4424-9e15-d5767f8f4219",
   "metadata": {},
   "outputs": [
    {
     "data": {
      "text/plain": [
       "True"
      ]
     },
     "execution_count": 1,
     "metadata": {},
     "output_type": "execute_result"
    }
   ],
   "source": [
    "import requests\n",
    "import os \n",
    "from dotenv import load_dotenv\n",
    "from bs4 import BeautifulSoup\n",
    "from IPython.display import Markdown, display\n",
    "\n",
    "# Upload .env file\n",
    "load_dotenv()"
   ]
  },
  {
   "cell_type": "code",
   "execution_count": 2,
   "id": "848408c2-4ccd-41b1-a098-cad4f631c315",
   "metadata": {},
   "outputs": [
    {
     "data": {
      "text/plain": [
       "'\\ndef test_ollama():\\n    url = os.getenv(\\'OLLAMA_BASE_URL\\') + \\'/api/generate\\'\\n    model = os.getenv(\\'OLLAMA_MODEL\\')\\n\\n    data = {\\n        \"model\" : model,\\n        \"prompt\" : \"Hi, How are you ?\",\\n        \"stream\": False\\n    }\\n\\n    response = requests.post(url, json=data)\\n    print(response.json()[\\'response\\'])\\nif __name__ == \"__main__\":\\n    test_ollama() \\n    '"
      ]
     },
     "execution_count": 2,
     "metadata": {},
     "output_type": "execute_result"
    }
   ],
   "source": [
    "'''\n",
    "def test_ollama():\n",
    "    url = os.getenv('OLLAMA_BASE_URL') + '/api/generate'\n",
    "    model = os.getenv('OLLAMA_MODEL')\n",
    "\n",
    "    data = {\n",
    "        \"model\" : model,\n",
    "        \"prompt\" : \"Hi, How are you ?\",\n",
    "        \"stream\": False\n",
    "    }\n",
    "\n",
    "    response = requests.post(url, json=data)\n",
    "    print(response.json()['response'])\n",
    "if __name__ == \"__main__\":\n",
    "    test_ollama() \n",
    "    '''"
   ]
  },
  {
   "cell_type": "code",
   "execution_count": 6,
   "id": "cdec2ac4-95a2-4dcf-b7f7-11a2250dde5d",
   "metadata": {},
   "outputs": [],
   "source": [
    "url = os.getenv('OLLAMA_BASE_URL') + '/api/chat'\n",
    "model = os.getenv('OLLAMA_MODEL')\n",
    "messages = [{\"role\":\"user\",\"content\":\"Describe some of the bussines applications of Generative AI\"}]"
   ]
  },
  {
   "cell_type": "code",
   "execution_count": 7,
   "id": "c3ddce13-d9b0-4dad-88d3-e0ce1ba80e67",
   "metadata": {},
   "outputs": [],
   "source": [
    "payload = {\n",
    "    \"model\" : model,\n",
    "    \"messages\" : messages,\n",
    "    \"stream\" : False\n",
    "}"
   ]
  },
  {
   "cell_type": "code",
   "execution_count": 11,
   "id": "b112f516-3385-4f42-af7e-cdd9082b156d",
   "metadata": {},
   "outputs": [
    {
     "ename": "SyntaxError",
     "evalue": "invalid syntax. Perhaps you forgot a comma? (838241140.py, line 2)",
     "output_type": "error",
     "traceback": [
      "  \u001b[36mCell\u001b[39m\u001b[36m \u001b[39m\u001b[32mIn[11]\u001b[39m\u001b[32m, line 2\u001b[39m\n\u001b[31m    \u001b[39m\u001b[31mprint(response.json(){[message]})\u001b[39m\n          ^\n\u001b[31mSyntaxError\u001b[39m\u001b[31m:\u001b[39m invalid syntax. Perhaps you forgot a comma?\n"
     ]
    }
   ],
   "source": [
    "response = requests.post(url, json = payload)\n",
    "print(response.json(){[message]})"
   ]
  },
  {
   "cell_type": "code",
   "execution_count": null,
   "id": "c0c80274-f6be-4f27-a8cf-e52b8d7fb850",
   "metadata": {},
   "outputs": [],
   "source": []
  },
  {
   "cell_type": "code",
   "execution_count": null,
   "id": "392189a6-4708-42a8-b4f3-bdbca5a99c1a",
   "metadata": {},
   "outputs": [],
   "source": []
  }
 ],
 "metadata": {
  "kernelspec": {
   "display_name": "Python 3 (ipykernel)",
   "language": "python",
   "name": "python3"
  },
  "language_info": {
   "codemirror_mode": {
    "name": "ipython",
    "version": 3
   },
   "file_extension": ".py",
   "mimetype": "text/x-python",
   "name": "python",
   "nbconvert_exporter": "python",
   "pygments_lexer": "ipython3",
   "version": "3.11.13"
  }
 },
 "nbformat": 4,
 "nbformat_minor": 5
}
